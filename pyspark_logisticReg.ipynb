{
  "nbformat": 4,
  "nbformat_minor": 0,
  "metadata": {
    "colab": {
      "name": "pyspark_logisticReg.ipynb",
      "provenance": [],
      "toc_visible": true,
      "authorship_tag": "ABX9TyPYIzYVIP8sOv82zde0VGWP"
    },
    "kernelspec": {
      "name": "python3",
      "display_name": "Python 3"
    },
    "language_info": {
      "name": "python"
    }
  },
  "cells": [
    {
      "cell_type": "markdown",
      "metadata": {
        "id": "RQlhKwoPM_XU"
      },
      "source": [
        "## Loading libraries"
      ]
    },
    {
      "cell_type": "code",
      "metadata": {
        "colab": {
          "base_uri": "https://localhost:8080/"
        },
        "id": "pfM2S5KZdeN-",
        "outputId": "84d4203a-f34a-426f-cb8e-16435c5e0d2f"
      },
      "source": [
        "!pip install pyspark"
      ],
      "execution_count": 1,
      "outputs": [
        {
          "output_type": "stream",
          "text": [
            "Requirement already satisfied: pyspark in /usr/local/lib/python3.7/dist-packages (3.1.2)\n",
            "Requirement already satisfied: py4j==0.10.9 in /usr/local/lib/python3.7/dist-packages (from pyspark) (0.10.9)\n"
          ],
          "name": "stdout"
        }
      ]
    },
    {
      "cell_type": "markdown",
      "metadata": {
        "id": "xf_8naty39tA"
      },
      "source": [
        "## Loading data"
      ]
    },
    {
      "cell_type": "code",
      "metadata": {
        "id": "TH6_OX6Z5D1V"
      },
      "source": [
        "from pyspark.sql import SparkSession\n",
        "spark=SparkSession.builder.appName('Dataframe').getOrCreate()"
      ],
      "execution_count": 2,
      "outputs": []
    },
    {
      "cell_type": "code",
      "metadata": {
        "colab": {
          "base_uri": "https://localhost:8080/"
        },
        "id": "4bz36kPLc3jK",
        "outputId": "396f3e9d-8b32-402e-c77e-d23aeed3b5e4"
      },
      "source": [
        "# Read dataset\n",
        "df=spark.read.option('header','true').csv('/content/iphone_purchase_records.csv',inferSchema=True)\n",
        "\n",
        "# Check the schema\n",
        "df.printSchema()"
      ],
      "execution_count": 3,
      "outputs": [
        {
          "output_type": "stream",
          "text": [
            "root\n",
            " |-- Gender: string (nullable = true)\n",
            " |-- Age: integer (nullable = true)\n",
            " |-- Salary: integer (nullable = true)\n",
            " |-- Purchase Iphone: integer (nullable = true)\n",
            "\n"
          ],
          "name": "stdout"
        }
      ]
    },
    {
      "cell_type": "code",
      "metadata": {
        "colab": {
          "base_uri": "https://localhost:8080/"
        },
        "id": "FdAt3BegeSyF",
        "outputId": "57d10c72-8d29-4f88-c195-885a0fff24e6"
      },
      "source": [
        "df.show()"
      ],
      "execution_count": 4,
      "outputs": [
        {
          "output_type": "stream",
          "text": [
            "+------+---+------+---------------+\n",
            "|Gender|Age|Salary|Purchase Iphone|\n",
            "+------+---+------+---------------+\n",
            "|  Male| 19| 19000|              0|\n",
            "|  Male| 35| 20000|              0|\n",
            "|Female| 26| 43000|              0|\n",
            "|Female| 27| 57000|              0|\n",
            "|  Male| 19| 76000|              0|\n",
            "|  Male| 27| 58000|              0|\n",
            "|Female| 27| 84000|              0|\n",
            "|Female| 32|150000|              1|\n",
            "|  Male| 25| 33000|              0|\n",
            "|Female| 35| 65000|              0|\n",
            "|Female| 26| 80000|              0|\n",
            "|Female| 26| 52000|              0|\n",
            "|  Male| 20| 86000|              0|\n",
            "|  Male| 32| 18000|              0|\n",
            "|  Male| 18| 82000|              0|\n",
            "|  Male| 29| 80000|              0|\n",
            "|  Male| 47| 25000|              1|\n",
            "|  Male| 45| 26000|              1|\n",
            "|  Male| 46| 28000|              1|\n",
            "|Female| 48| 29000|              1|\n",
            "+------+---+------+---------------+\n",
            "only showing top 20 rows\n",
            "\n"
          ],
          "name": "stdout"
        }
      ]
    },
    {
      "cell_type": "markdown",
      "metadata": {
        "id": "yu3lTVtB4Egp"
      },
      "source": [
        "# Handling Categorical Values"
      ]
    },
    {
      "cell_type": "code",
      "metadata": {
        "colab": {
          "base_uri": "https://localhost:8080/"
        },
        "id": "kvVV-OECp3q-",
        "outputId": "b8d8895d-9f0f-4591-e9d7-8c463b83f218"
      },
      "source": [
        "df.columns"
      ],
      "execution_count": 5,
      "outputs": [
        {
          "output_type": "execute_result",
          "data": {
            "text/plain": [
              "['Gender', 'Age', 'Salary', 'Purchase Iphone']"
            ]
          },
          "metadata": {
            "tags": []
          },
          "execution_count": 5
        }
      ]
    },
    {
      "cell_type": "code",
      "metadata": {
        "id": "0Ea45o4QfZGC",
        "colab": {
          "base_uri": "https://localhost:8080/"
        },
        "outputId": "b9610259-2551-4b82-8473-a00f3f79ab4e"
      },
      "source": [
        "# Handling Categorical Features\n",
        "from pyspark.ml.feature import StringIndexer\n",
        "\n",
        "indexer=StringIndexer(inputCol=\"Gender\",outputCol=\"Gender_indexed\")\n",
        "df=indexer.fit(df).transform(df)\n",
        "df.show()"
      ],
      "execution_count": 6,
      "outputs": [
        {
          "output_type": "stream",
          "text": [
            "+------+---+------+---------------+--------------+\n",
            "|Gender|Age|Salary|Purchase Iphone|Gender_indexed|\n",
            "+------+---+------+---------------+--------------+\n",
            "|  Male| 19| 19000|              0|           1.0|\n",
            "|  Male| 35| 20000|              0|           1.0|\n",
            "|Female| 26| 43000|              0|           0.0|\n",
            "|Female| 27| 57000|              0|           0.0|\n",
            "|  Male| 19| 76000|              0|           1.0|\n",
            "|  Male| 27| 58000|              0|           1.0|\n",
            "|Female| 27| 84000|              0|           0.0|\n",
            "|Female| 32|150000|              1|           0.0|\n",
            "|  Male| 25| 33000|              0|           1.0|\n",
            "|Female| 35| 65000|              0|           0.0|\n",
            "|Female| 26| 80000|              0|           0.0|\n",
            "|Female| 26| 52000|              0|           0.0|\n",
            "|  Male| 20| 86000|              0|           1.0|\n",
            "|  Male| 32| 18000|              0|           1.0|\n",
            "|  Male| 18| 82000|              0|           1.0|\n",
            "|  Male| 29| 80000|              0|           1.0|\n",
            "|  Male| 47| 25000|              1|           1.0|\n",
            "|  Male| 45| 26000|              1|           1.0|\n",
            "|  Male| 46| 28000|              1|           1.0|\n",
            "|Female| 48| 29000|              1|           0.0|\n",
            "+------+---+------+---------------+--------------+\n",
            "only showing top 20 rows\n",
            "\n"
          ],
          "name": "stdout"
        }
      ]
    },
    {
      "cell_type": "markdown",
      "metadata": {
        "id": "fl0EHqx346m9"
      },
      "source": [
        "## Combining all features and separating labels"
      ]
    },
    {
      "cell_type": "code",
      "metadata": {
        "id": "yt_qRO7Og5wJ"
      },
      "source": [
        "from pyspark.ml.feature import VectorAssembler\n",
        "featureassembler = VectorAssembler(inputCols=['Age', 'Salary', 'Gender_indexed'],outputCol=\"Independent Features\")\n",
        "output = featureassembler.transform(df)"
      ],
      "execution_count": 7,
      "outputs": []
    },
    {
      "cell_type": "code",
      "metadata": {
        "colab": {
          "base_uri": "https://localhost:8080/"
        },
        "id": "onjSkcYvqWTM",
        "outputId": "a61b5099-a91e-4b14-b1b9-0261fb4242f5"
      },
      "source": [
        "output.select('Independent Features').show()"
      ],
      "execution_count": 8,
      "outputs": [
        {
          "output_type": "stream",
          "text": [
            "+--------------------+\n",
            "|Independent Features|\n",
            "+--------------------+\n",
            "|  [19.0,19000.0,1.0]|\n",
            "|  [35.0,20000.0,1.0]|\n",
            "|  [26.0,43000.0,0.0]|\n",
            "|  [27.0,57000.0,0.0]|\n",
            "|  [19.0,76000.0,1.0]|\n",
            "|  [27.0,58000.0,1.0]|\n",
            "|  [27.0,84000.0,0.0]|\n",
            "| [32.0,150000.0,0.0]|\n",
            "|  [25.0,33000.0,1.0]|\n",
            "|  [35.0,65000.0,0.0]|\n",
            "|  [26.0,80000.0,0.0]|\n",
            "|  [26.0,52000.0,0.0]|\n",
            "|  [20.0,86000.0,1.0]|\n",
            "|  [32.0,18000.0,1.0]|\n",
            "|  [18.0,82000.0,1.0]|\n",
            "|  [29.0,80000.0,1.0]|\n",
            "|  [47.0,25000.0,1.0]|\n",
            "|  [45.0,26000.0,1.0]|\n",
            "|  [46.0,28000.0,1.0]|\n",
            "|  [48.0,29000.0,0.0]|\n",
            "+--------------------+\n",
            "only showing top 20 rows\n",
            "\n"
          ],
          "name": "stdout"
        }
      ]
    },
    {
      "cell_type": "code",
      "metadata": {
        "colab": {
          "base_uri": "https://localhost:8080/"
        },
        "id": "kmR4jN9aqcoG",
        "outputId": "ab0482f5-138e-412b-e8ba-ca1c5d021d94"
      },
      "source": [
        "output.show()"
      ],
      "execution_count": 9,
      "outputs": [
        {
          "output_type": "stream",
          "text": [
            "+------+---+------+---------------+--------------+--------------------+\n",
            "|Gender|Age|Salary|Purchase Iphone|Gender_indexed|Independent Features|\n",
            "+------+---+------+---------------+--------------+--------------------+\n",
            "|  Male| 19| 19000|              0|           1.0|  [19.0,19000.0,1.0]|\n",
            "|  Male| 35| 20000|              0|           1.0|  [35.0,20000.0,1.0]|\n",
            "|Female| 26| 43000|              0|           0.0|  [26.0,43000.0,0.0]|\n",
            "|Female| 27| 57000|              0|           0.0|  [27.0,57000.0,0.0]|\n",
            "|  Male| 19| 76000|              0|           1.0|  [19.0,76000.0,1.0]|\n",
            "|  Male| 27| 58000|              0|           1.0|  [27.0,58000.0,1.0]|\n",
            "|Female| 27| 84000|              0|           0.0|  [27.0,84000.0,0.0]|\n",
            "|Female| 32|150000|              1|           0.0| [32.0,150000.0,0.0]|\n",
            "|  Male| 25| 33000|              0|           1.0|  [25.0,33000.0,1.0]|\n",
            "|Female| 35| 65000|              0|           0.0|  [35.0,65000.0,0.0]|\n",
            "|Female| 26| 80000|              0|           0.0|  [26.0,80000.0,0.0]|\n",
            "|Female| 26| 52000|              0|           0.0|  [26.0,52000.0,0.0]|\n",
            "|  Male| 20| 86000|              0|           1.0|  [20.0,86000.0,1.0]|\n",
            "|  Male| 32| 18000|              0|           1.0|  [32.0,18000.0,1.0]|\n",
            "|  Male| 18| 82000|              0|           1.0|  [18.0,82000.0,1.0]|\n",
            "|  Male| 29| 80000|              0|           1.0|  [29.0,80000.0,1.0]|\n",
            "|  Male| 47| 25000|              1|           1.0|  [47.0,25000.0,1.0]|\n",
            "|  Male| 45| 26000|              1|           1.0|  [45.0,26000.0,1.0]|\n",
            "|  Male| 46| 28000|              1|           1.0|  [46.0,28000.0,1.0]|\n",
            "|Female| 48| 29000|              1|           0.0|  [48.0,29000.0,0.0]|\n",
            "+------+---+------+---------------+--------------+--------------------+\n",
            "only showing top 20 rows\n",
            "\n"
          ],
          "name": "stdout"
        }
      ]
    },
    {
      "cell_type": "code",
      "metadata": {
        "colab": {
          "base_uri": "https://localhost:8080/"
        },
        "id": "PiSX9hXrqhLU",
        "outputId": "99e52045-138e-4260-9101-07ab6881de67"
      },
      "source": [
        "finalized_data=output.select(\"Independent Features\",\"Purchase Iphone\")\n",
        "\n",
        "finalized_data.show()"
      ],
      "execution_count": 10,
      "outputs": [
        {
          "output_type": "stream",
          "text": [
            "+--------------------+---------------+\n",
            "|Independent Features|Purchase Iphone|\n",
            "+--------------------+---------------+\n",
            "|  [19.0,19000.0,1.0]|              0|\n",
            "|  [35.0,20000.0,1.0]|              0|\n",
            "|  [26.0,43000.0,0.0]|              0|\n",
            "|  [27.0,57000.0,0.0]|              0|\n",
            "|  [19.0,76000.0,1.0]|              0|\n",
            "|  [27.0,58000.0,1.0]|              0|\n",
            "|  [27.0,84000.0,0.0]|              0|\n",
            "| [32.0,150000.0,0.0]|              1|\n",
            "|  [25.0,33000.0,1.0]|              0|\n",
            "|  [35.0,65000.0,0.0]|              0|\n",
            "|  [26.0,80000.0,0.0]|              0|\n",
            "|  [26.0,52000.0,0.0]|              0|\n",
            "|  [20.0,86000.0,1.0]|              0|\n",
            "|  [32.0,18000.0,1.0]|              0|\n",
            "|  [18.0,82000.0,1.0]|              0|\n",
            "|  [29.0,80000.0,1.0]|              0|\n",
            "|  [47.0,25000.0,1.0]|              1|\n",
            "|  [45.0,26000.0,1.0]|              1|\n",
            "|  [46.0,28000.0,1.0]|              1|\n",
            "|  [48.0,29000.0,0.0]|              1|\n",
            "+--------------------+---------------+\n",
            "only showing top 20 rows\n",
            "\n"
          ],
          "name": "stdout"
        }
      ]
    },
    {
      "cell_type": "markdown",
      "metadata": {
        "id": "33VL-TKV5Da9"
      },
      "source": [
        "## Train Test split and Model creation"
      ]
    },
    {
      "cell_type": "code",
      "metadata": {
        "id": "QKf6OgvLqueJ"
      },
      "source": [
        "from pyspark.ml.classification import LogisticRegression\n",
        "\n",
        "##train test split\n",
        "train_data,test_data = finalized_data.randomSplit([0.75,0.25])\n",
        "lr = LogisticRegression(featuresCol='Independent Features', labelCol='Purchase Iphone')\n",
        "lr = lr.fit(train_data)"
      ],
      "execution_count": 11,
      "outputs": []
    },
    {
      "cell_type": "code",
      "metadata": {
        "id": "fkb4JMNSrLUd"
      },
      "source": [
        "# Predictions\n",
        "predictions = lr.transform(test_data)"
      ],
      "execution_count": 12,
      "outputs": []
    },
    {
      "cell_type": "code",
      "metadata": {
        "colab": {
          "base_uri": "https://localhost:8080/",
          "height": 306
        },
        "id": "AmE-dlWB0k4l",
        "outputId": "aa86058d-9382-4a3c-a60b-01e8bbbb205a"
      },
      "source": [
        "predictions.select('Purchase Iphone', 'Independent Features', 'rawPrediction', 'prediction', 'probability').toPandas().head(5)"
      ],
      "execution_count": 13,
      "outputs": [
        {
          "output_type": "execute_result",
          "data": {
            "text/html": [
              "<div>\n",
              "<style scoped>\n",
              "    .dataframe tbody tr th:only-of-type {\n",
              "        vertical-align: middle;\n",
              "    }\n",
              "\n",
              "    .dataframe tbody tr th {\n",
              "        vertical-align: top;\n",
              "    }\n",
              "\n",
              "    .dataframe thead th {\n",
              "        text-align: right;\n",
              "    }\n",
              "</style>\n",
              "<table border=\"1\" class=\"dataframe\">\n",
              "  <thead>\n",
              "    <tr style=\"text-align: right;\">\n",
              "      <th></th>\n",
              "      <th>Purchase Iphone</th>\n",
              "      <th>Independent Features</th>\n",
              "      <th>rawPrediction</th>\n",
              "      <th>prediction</th>\n",
              "      <th>probability</th>\n",
              "    </tr>\n",
              "  </thead>\n",
              "  <tbody>\n",
              "    <tr>\n",
              "      <th>0</th>\n",
              "      <td>0</td>\n",
              "      <td>[18.0, 82000.0, 1.0]</td>\n",
              "      <td>[5.882695050865474, -5.882695050865474]</td>\n",
              "      <td>0.0</td>\n",
              "      <td>[0.9972204839161163, 0.002779516083883715]</td>\n",
              "    </tr>\n",
              "    <tr>\n",
              "      <th>1</th>\n",
              "      <td>0</td>\n",
              "      <td>[19.0, 19000.0, 1.0]</td>\n",
              "      <td>[8.458267028417154, -8.458267028417154]</td>\n",
              "      <td>0.0</td>\n",
              "      <td>[0.9997879056097394, 0.00021209439026059762]</td>\n",
              "    </tr>\n",
              "    <tr>\n",
              "      <th>2</th>\n",
              "      <td>0</td>\n",
              "      <td>[19.0, 21000.0, 0.0]</td>\n",
              "      <td>[8.67212463011553, -8.67212463011553]</td>\n",
              "      <td>0.0</td>\n",
              "      <td>[0.9998287345575892, 0.0001712654424107507]</td>\n",
              "    </tr>\n",
              "    <tr>\n",
              "      <th>3</th>\n",
              "      <td>0</td>\n",
              "      <td>[20.0, 74000.0, 1.0]</td>\n",
              "      <td>[5.683564338550912, -5.683564338550912]</td>\n",
              "      <td>0.0</td>\n",
              "      <td>[0.996610117367442, 0.0033898826325580167]</td>\n",
              "    </tr>\n",
              "    <tr>\n",
              "      <th>4</th>\n",
              "      <td>0</td>\n",
              "      <td>[20.0, 82000.0, 0.0]</td>\n",
              "      <td>[5.625374075804308, -5.625374075804308]</td>\n",
              "      <td>0.0</td>\n",
              "      <td>[0.9964077366188521, 0.003592263381147931]</td>\n",
              "    </tr>\n",
              "  </tbody>\n",
              "</table>\n",
              "</div>"
            ],
            "text/plain": [
              "   Purchase Iphone  ...                                   probability\n",
              "0                0  ...    [0.9972204839161163, 0.002779516083883715]\n",
              "1                0  ...  [0.9997879056097394, 0.00021209439026059762]\n",
              "2                0  ...   [0.9998287345575892, 0.0001712654424107507]\n",
              "3                0  ...    [0.996610117367442, 0.0033898826325580167]\n",
              "4                0  ...    [0.9964077366188521, 0.003592263381147931]\n",
              "\n",
              "[5 rows x 5 columns]"
            ]
          },
          "metadata": {
            "tags": []
          },
          "execution_count": 13
        }
      ]
    },
    {
      "cell_type": "markdown",
      "metadata": {
        "id": "GkPjUtz55PcK"
      },
      "source": [
        "# Accuracy checking"
      ]
    },
    {
      "cell_type": "code",
      "metadata": {
        "colab": {
          "base_uri": "https://localhost:8080/"
        },
        "id": "VHl5peJc2Z7H",
        "outputId": "942ac51b-a9cf-4242-accb-f03834efa746"
      },
      "source": [
        "accuracy = predictions.filter(predictions['Purchase Iphone'] == predictions.prediction).count() / float(predictions.count())\n",
        "print(\"Accuracy : \",accuracy)\n",
        "Accuracy :  0.7446808510638298"
      ],
      "execution_count": 14,
      "outputs": [
        {
          "output_type": "stream",
          "text": [
            "Accuracy :  0.8125\n"
          ],
          "name": "stdout"
        }
      ]
    },
    {
      "cell_type": "code",
      "metadata": {
        "id": "kto9QZ253PTw"
      },
      "source": [
        ""
      ],
      "execution_count": 14,
      "outputs": []
    }
  ]
}